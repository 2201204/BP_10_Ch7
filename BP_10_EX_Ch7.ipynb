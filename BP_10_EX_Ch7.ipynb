{
  "nbformat": 4,
  "nbformat_minor": 0,
  "metadata": {
    "colab": {
      "provenance": [],
      "authorship_tag": "ABX9TyOzK1mXv4xp1Z4VwAe5LTA/",
      "include_colab_link": true
    },
    "kernelspec": {
      "name": "python3",
      "display_name": "Python 3"
    },
    "language_info": {
      "name": "python"
    }
  },
  "cells": [
    {
      "cell_type": "markdown",
      "metadata": {
        "id": "view-in-github",
        "colab_type": "text"
      },
      "source": [
        "<a href=\"https://colab.research.google.com/github/2201204/BP_10_Ch7/blob/main/BP_10_EX_Ch7.ipynb\" target=\"_parent\"><img src=\"https://colab.research.google.com/assets/colab-badge.svg\" alt=\"Open In Colab\"/></a>"
      ]
    },
    {
      "cell_type": "code",
      "execution_count": null,
      "metadata": {
        "colab": {
          "base_uri": "https://localhost:8080/"
        },
        "id": "_3fxK0-H-UYb",
        "outputId": "8d31afb1-b461-4a5f-dc6e-f39243f13626"
      },
      "outputs": [
        {
          "output_type": "stream",
          "name": "stdout",
          "text": [
            "happy Birthday to you!\n",
            "happy Birthday to you!\n",
            "happy Birthday,daer홍길동\n",
            "happy Birthday to you!\n"
          ]
        }
      ],
      "source": [
        "5.\n",
        "def happyBirthday(person):                # 함수 생성 변수 지정\n",
        "    print(\"happy Birthday to you!\")\n",
        "    print(\"happy Birthday to you!\")\n",
        "    print(\"happy Birthday,daer\" + person)\n",
        "    print(\"happy Birthday to you!\")\n",
        "\n",
        "happyBirthday(\"홍길동\")                   # 함수 실행"
      ]
    },
    {
      "cell_type": "code",
      "source": [
        "6.\n",
        "def sumProblem(x,y):                      # 함수 생성\n",
        "  sum = x + y\n",
        "  sentence = \"정수\" + str(x) + \"+\"+str(y)+\"의 합은?\"\n",
        "  print(sentence)\n",
        "\n",
        "def main():\n",
        "  a = int(input(\"첫 번째 정수: \"))        # 사용자로 부터 a에 정수를 입력 받아 저장\n",
        "  b = int(input(\"두 번째 정수: \"))        # 사용자로 부터 b에 정수를 입력 받아 저장\n",
        "  sumProblem(a,b)\n",
        "\n",
        "main()                                    # 함수 실행"
      ],
      "metadata": {
        "colab": {
          "base_uri": "https://localhost:8080/"
        },
        "id": "2TOJUIvvJrI_",
        "outputId": "36a802dc-767a-48f3-98de-a2c62783fbb7"
      },
      "execution_count": null,
      "outputs": [
        {
          "output_type": "stream",
          "name": "stdout",
          "text": [
            "첫 번째 정수: 10\n",
            "두 번째 정수: 20\n",
            "정수10+20의 합은?\n"
          ]
        }
      ]
    },
    {
      "cell_type": "code",
      "source": [
        "7.\n",
        "PI = 3.14159265358979                      # PI값 전역변수 실수형으로 지정(\n",
        "def circleArea(radius):\n",
        "  return PI*radius*radius\n",
        "\n",
        "def circleCircumference(radius):           # 원 둘레 함수 생성\n",
        "  return 2*PI*radius\n",
        "\n",
        "def main():\n",
        "  print('반지름이 5인 원의 면적:', circleArea(5))           # 원 면석 함수(radius)에 5 입력 시 계산 값 출력\n",
        "  print('반지름이 5인 원의 둘레:', circleCircumference(5))  # 원 둘레 함수(radius)에 5 입력 시 계산 값 출력\n",
        "\n",
        "\n",
        "main()"
      ],
      "metadata": {
        "colab": {
          "base_uri": "https://localhost:8080/"
        },
        "id": "Jxq5YM7xN3EX",
        "outputId": "f72b8ebe-df46-4120-e9a1-dcda9c2f355a"
      },
      "execution_count": null,
      "outputs": [
        {
          "output_type": "stream",
          "name": "stdout",
          "text": [
            "반지름이 5인 원의 면적: 78.53981633974475\n",
            "반지름이 5인 원의 둘레: 31.4159265358979\n"
          ]
        }
      ]
    },
    {
      "cell_type": "code",
      "source": [
        "8.\n",
        "def add(a, b):               # 더하기 함수 생성 a,b변수 지정\n",
        " print( \"(%d + %d)\" % (a, b), end=\" \")\n",
        " return a + b\n",
        "\n",
        "def subtract(a, b):          # 빼기 함수 생성 a,b변수 지정\n",
        " print (\"(%d - %d)\" % (a, b), end=\" \")\n",
        " return a - b\n",
        "\n",
        "def multiply(a, b):          # 곱셈 함수 생성 a,b변수 지정\n",
        " print (\"(%d * %d)\" % (a, b), end=\" \")\n",
        " return a * b\n",
        "\n",
        "def divide(a, b):             # 나누기 함수 생성 a,b변수 지정\n",
        " print (\"(%d / %d)\"%(a, b), end=\" \")\n",
        " return a / b\n",
        "\n",
        "what = add(20, 10)\n",
        "print(\"= \", what)"
      ],
      "metadata": {
        "colab": {
          "base_uri": "https://localhost:8080/",
          "height": 211
        },
        "id": "X5wHGHfYPhy3",
        "outputId": "ac9732f1-f966-402e-b2b2-70f52ad67c7d"
      },
      "execution_count": null,
      "outputs": [
        {
          "output_type": "error",
          "ename": "NameError",
          "evalue": "ignored",
          "traceback": [
            "\u001b[0;31m---------------------------------------------------------------------------\u001b[0m",
            "\u001b[0;31mNameError\u001b[0m                                 Traceback (most recent call last)",
            "\u001b[0;32m<ipython-input-31-02147e86bf5d>\u001b[0m in \u001b[0;36m<module>\u001b[0;34m\u001b[0m\n\u001b[1;32m     17\u001b[0m \u001b[0;34m\u001b[0m\u001b[0m\n\u001b[1;32m     18\u001b[0m  \u001b[0mwhat\u001b[0m \u001b[0;34m=\u001b[0m \u001b[0madd\u001b[0m\u001b[0;34m(\u001b[0m\u001b[0;36m20\u001b[0m\u001b[0;34m,\u001b[0m \u001b[0;36m10\u001b[0m\u001b[0;34m)\u001b[0m\u001b[0;34m\u001b[0m\u001b[0;34m\u001b[0m\u001b[0m\n\u001b[0;32m---> 19\u001b[0;31m \u001b[0mprint\u001b[0m\u001b[0;34m(\u001b[0m\u001b[0;34m\"= \"\u001b[0m\u001b[0;34m,\u001b[0m \u001b[0mwhat\u001b[0m\u001b[0;34m)\u001b[0m\u001b[0;34m\u001b[0m\u001b[0;34m\u001b[0m\u001b[0m\n\u001b[0m",
            "\u001b[0;31mNameError\u001b[0m: name 'what' is not defined"
          ]
        }
      ]
    }
  ]
}
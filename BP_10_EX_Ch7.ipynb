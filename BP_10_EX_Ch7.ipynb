{
  "nbformat": 4,
  "nbformat_minor": 0,
  "metadata": {
    "colab": {
      "provenance": [],
      "authorship_tag": "ABX9TyNEFciadEccR9rg4ScvTxly",
      "include_colab_link": true
    },
    "kernelspec": {
      "name": "python3",
      "display_name": "Python 3"
    },
    "language_info": {
      "name": "python"
    }
  },
  "cells": [
    {
      "cell_type": "markdown",
      "metadata": {
        "id": "view-in-github",
        "colab_type": "text"
      },
      "source": [
        "<a href=\"https://colab.research.google.com/github/2201204/BP_10_Ch7/blob/main/BP_10_EX_Ch7.ipynb\" target=\"_parent\"><img src=\"https://colab.research.google.com/assets/colab-badge.svg\" alt=\"Open In Colab\"/></a>"
      ]
    },
    {
      "cell_type": "code",
      "execution_count": 21,
      "metadata": {
        "colab": {
          "base_uri": "https://localhost:8080/"
        },
        "id": "_3fxK0-H-UYb",
        "outputId": "8d31afb1-b461-4a5f-dc6e-f39243f13626"
      },
      "outputs": [
        {
          "output_type": "stream",
          "name": "stdout",
          "text": [
            "happy Birthday to you!\n",
            "happy Birthday to you!\n",
            "happy Birthday,daer홍길동\n",
            "happy Birthday to you!\n"
          ]
        }
      ],
      "source": [
        "5.\n",
        "def happyBirthday(person):\n",
        "    print(\"happy Birthday to you!\")\n",
        "    print(\"happy Birthday to you!\")\n",
        "    print(\"happy Birthday,daer\" + person)\n",
        "    print(\"happy Birthday to you!\")\n",
        "\n",
        "happyBirthday(\"홍길동\")"
      ]
    },
    {
      "cell_type": "code",
      "source": [
        "6.\n",
        "def sumProblem(x,y):\n",
        "  sum = x + y\n",
        "  sentence = \"정수\" + str(x) + \"+\"+str(y)+\"의 합은?\"\n",
        "  print(sentence)\n",
        "\n",
        "def main():\n",
        "  a = int(input(\"첫 번째 정수: \"))\n",
        "  b = int(input(\"두 번째 정수: \"))\n",
        "  sumProblem(a,b)\n",
        "\n",
        "main()"
      ],
      "metadata": {
        "colab": {
          "base_uri": "https://localhost:8080/"
        },
        "id": "2TOJUIvvJrI_",
        "outputId": "36a802dc-767a-48f3-98de-a2c62783fbb7"
      },
      "execution_count": 26,
      "outputs": [
        {
          "output_type": "stream",
          "name": "stdout",
          "text": [
            "첫 번째 정수: 10\n",
            "두 번째 정수: 20\n",
            "정수10+20의 합은?\n"
          ]
        }
      ]
    },
    {
      "cell_type": "code",
      "source": [
        "7.\n",
        "PI = 3.14159265358979\n",
        "\n",
        "def circleArea(radius):\n",
        "  return PI*radius*radius\n",
        "\n",
        "def circleCircumference(radius):\n",
        "  return 2*PI*radius\n",
        "\n",
        "def main():\n",
        "  print('반지름이 5인 원의 면적:', circleArea(5))\n",
        "  print('반지름이 5인 원의 둘레:', circleCircumference(5))\n",
        "\n",
        "main()"
      ],
      "metadata": {
        "colab": {
          "base_uri": "https://localhost:8080/"
        },
        "id": "Jxq5YM7xN3EX",
        "outputId": "f72b8ebe-df46-4120-e9a1-dcda9c2f355a"
      },
      "execution_count": 27,
      "outputs": [
        {
          "output_type": "stream",
          "name": "stdout",
          "text": [
            "반지름이 5인 원의 면적: 78.53981633974475\n",
            "반지름이 5인 원의 둘레: 31.4159265358979\n"
          ]
        }
      ]
    },
    {
      "cell_type": "code",
      "source": [
        "8.\n",
        "def add(a, b):\n",
        " print( \"(%d + %d)\" % (a, b), end=\" \")\n",
        " return a + b\n",
        "\n",
        "def subtract(a, b):\n",
        " print (\"(%d - %d)\" % (a, b), end=\" \")\n",
        " return a - b\n",
        "\n",
        "def multiply(a, b):\n",
        " print (\"(%d * %d)\" % (a, b), end=\" \")\n",
        " return a * b\n",
        "\n",
        "def divide(a, b):\n",
        " print (\"(%d / %d)\"%(a, b), end=\" \")\n",
        " return a / b\n",
        "\n",
        "what = add(20, 10)\n",
        "print(\"= \", what)"
      ],
      "metadata": {
        "colab": {
          "base_uri": "https://localhost:8080/"
        },
        "id": "X5wHGHfYPhy3",
        "outputId": "70caef79-e64d-423f-be7a-a0a3bbb876a8"
      },
      "execution_count": 32,
      "outputs": [
        {
          "output_type": "stream",
          "name": "stdout",
          "text": [
            "(20 + 10) =  30\n"
          ]
        }
      ]
    }
  ]
}